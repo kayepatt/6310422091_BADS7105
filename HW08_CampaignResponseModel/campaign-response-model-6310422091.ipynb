{
 "cells": [
  {
   "cell_type": "markdown",
   "metadata": {
    "papermill": {
     "duration": 0.035628,
     "end_time": "2021-06-13T07:52:53.009548",
     "exception": false,
     "start_time": "2021-06-13T07:52:52.973920",
     "status": "completed"
    },
    "tags": []
   },
   "source": [
    "# Importing and Reading Data:"
   ]
  },
  {
   "cell_type": "markdown",
   "metadata": {
    "papermill": {
     "duration": 0.032107,
     "end_time": "2021-06-13T07:52:53.074435",
     "exception": false,
     "start_time": "2021-06-13T07:52:53.042328",
     "status": "completed"
    },
    "tags": []
   },
   "source": [
    "Importing pandas and other libraries for working with the data:"
   ]
  },
  {
   "cell_type": "code",
   "execution_count": 1,
   "metadata": {
    "_cell_guid": "b1076dfc-b9ad-4769-8c92-a6c4dae69d19",
    "_uuid": "8f2839f25d086af736a60e9eeb907d3b93b6e0e5",
    "execution": {
     "iopub.execute_input": "2021-06-13T07:52:53.151599Z",
     "iopub.status.busy": "2021-06-13T07:52:53.150200Z",
     "iopub.status.idle": "2021-06-13T07:52:55.515391Z",
     "shell.execute_reply": "2021-06-13T07:52:55.514781Z",
     "shell.execute_reply.started": "2021-06-13T07:49:16.547085Z"
    },
    "papermill": {
     "duration": 2.408853,
     "end_time": "2021-06-13T07:52:55.515531",
     "exception": false,
     "start_time": "2021-06-13T07:52:53.106678",
     "status": "completed"
    },
    "tags": []
   },
   "outputs": [],
   "source": [
    "%matplotlib inline\n",
    "import pandas as pd\n",
    "import numpy as np\n",
    "import matplotlib.pyplot as plt\n",
    "import datetime as dt\n",
    "from matplotlib.gridspec import GridSpec\n",
    "import seaborn as sns\n",
    "import plotly.express as px\n",
    "from sklearn.cluster import KMeans\n",
    "from sklearn.preprocessing import StandardScaler as ss"
   ]
  },
  {
   "cell_type": "code",
   "execution_count": 2,
   "metadata": {
    "_cell_guid": "79c7e3d0-c299-4dcb-8224-4455121ee9b0",
    "_uuid": "d629ff2d2480ee46fbb7e2d37f6b5fab8052498a",
    "execution": {
     "iopub.execute_input": "2021-06-13T07:52:55.592443Z",
     "iopub.status.busy": "2021-06-13T07:52:55.591737Z",
     "iopub.status.idle": "2021-06-13T07:52:55.719337Z",
     "shell.execute_reply": "2021-06-13T07:52:55.718223Z",
     "shell.execute_reply.started": "2021-06-13T07:49:17.901232Z"
    },
    "papermill": {
     "duration": 0.171067,
     "end_time": "2021-06-13T07:52:55.719463",
     "exception": false,
     "start_time": "2021-06-13T07:52:55.548396",
     "status": "completed"
    },
    "tags": []
   },
   "outputs": [],
   "source": [
    "# Reading the data:\n",
    "data = pd.read_csv(\"../input/retailtransactiondata/Retail_Data_Transactions.csv\")"
   ]
  },
  {
   "cell_type": "code",
   "execution_count": 3,
   "metadata": {
    "execution": {
     "iopub.execute_input": "2021-06-13T07:52:55.798251Z",
     "iopub.status.busy": "2021-06-13T07:52:55.797196Z",
     "iopub.status.idle": "2021-06-13T07:52:55.805847Z",
     "shell.execute_reply": "2021-06-13T07:52:55.806311Z",
     "shell.execute_reply.started": "2021-06-13T07:49:18.006569Z"
    },
    "papermill": {
     "duration": 0.054504,
     "end_time": "2021-06-13T07:52:55.806464",
     "exception": false,
     "start_time": "2021-06-13T07:52:55.751960",
     "status": "completed"
    },
    "tags": []
   },
   "outputs": [
    {
     "data": {
      "text/html": [
       "<div>\n",
       "<style scoped>\n",
       "    .dataframe tbody tr th:only-of-type {\n",
       "        vertical-align: middle;\n",
       "    }\n",
       "\n",
       "    .dataframe tbody tr th {\n",
       "        vertical-align: top;\n",
       "    }\n",
       "\n",
       "    .dataframe thead th {\n",
       "        text-align: right;\n",
       "    }\n",
       "</style>\n",
       "<table border=\"1\" class=\"dataframe\">\n",
       "  <thead>\n",
       "    <tr style=\"text-align: right;\">\n",
       "      <th></th>\n",
       "      <th>customer_id</th>\n",
       "      <th>trans_date</th>\n",
       "      <th>tran_amount</th>\n",
       "    </tr>\n",
       "  </thead>\n",
       "  <tbody>\n",
       "    <tr>\n",
       "      <th>0</th>\n",
       "      <td>CS5295</td>\n",
       "      <td>11-Feb-13</td>\n",
       "      <td>35</td>\n",
       "    </tr>\n",
       "    <tr>\n",
       "      <th>1</th>\n",
       "      <td>CS4768</td>\n",
       "      <td>15-Mar-15</td>\n",
       "      <td>39</td>\n",
       "    </tr>\n",
       "    <tr>\n",
       "      <th>2</th>\n",
       "      <td>CS2122</td>\n",
       "      <td>26-Feb-13</td>\n",
       "      <td>52</td>\n",
       "    </tr>\n",
       "    <tr>\n",
       "      <th>3</th>\n",
       "      <td>CS1217</td>\n",
       "      <td>16-Nov-11</td>\n",
       "      <td>99</td>\n",
       "    </tr>\n",
       "    <tr>\n",
       "      <th>4</th>\n",
       "      <td>CS1850</td>\n",
       "      <td>20-Nov-13</td>\n",
       "      <td>78</td>\n",
       "    </tr>\n",
       "  </tbody>\n",
       "</table>\n",
       "</div>"
      ],
      "text/plain": [
       "  customer_id trans_date  tran_amount\n",
       "0      CS5295  11-Feb-13           35\n",
       "1      CS4768  15-Mar-15           39\n",
       "2      CS2122  26-Feb-13           52\n",
       "3      CS1217  16-Nov-11           99\n",
       "4      CS1850  20-Nov-13           78"
      ]
     },
     "execution_count": 3,
     "metadata": {},
     "output_type": "execute_result"
    }
   ],
   "source": [
    "data.head()"
   ]
  },
  {
   "cell_type": "markdown",
   "metadata": {
    "papermill": {
     "duration": 0.033422,
     "end_time": "2021-06-13T07:52:55.873547",
     "exception": false,
     "start_time": "2021-06-13T07:52:55.840125",
     "status": "completed"
    },
    "tags": []
   },
   "source": [
    "# Playing with the Data:"
   ]
  },
  {
   "cell_type": "markdown",
   "metadata": {
    "papermill": {
     "duration": 0.032805,
     "end_time": "2021-06-13T07:52:55.939846",
     "exception": false,
     "start_time": "2021-06-13T07:52:55.907041",
     "status": "completed"
    },
    "tags": []
   },
   "source": [
    "The last date was 2015-03-16 for transaction. So will take latest date for benchmark as 2015-03-16, for the calculation of the Recency."
   ]
  },
  {
   "cell_type": "code",
   "execution_count": 4,
   "metadata": {
    "execution": {
     "iopub.execute_input": "2021-06-13T07:52:56.018929Z",
     "iopub.status.busy": "2021-06-13T07:52:56.017918Z",
     "iopub.status.idle": "2021-06-13T07:52:56.020558Z",
     "shell.execute_reply": "2021-06-13T07:52:56.021066Z",
     "shell.execute_reply.started": "2021-06-13T07:49:18.021863Z"
    },
    "papermill": {
     "duration": 0.048572,
     "end_time": "2021-06-13T07:52:56.021208",
     "exception": false,
     "start_time": "2021-06-13T07:52:55.972636",
     "status": "completed"
    },
    "tags": []
   },
   "outputs": [],
   "source": [
    "# Defining Recency as two of the three columns in data:\n",
    "recency = data[['trans_date', 'customer_id']]"
   ]
  },
  {
   "cell_type": "markdown",
   "metadata": {
    "papermill": {
     "duration": 0.032505,
     "end_time": "2021-06-13T07:52:56.086699",
     "exception": false,
     "start_time": "2021-06-13T07:52:56.054194",
     "status": "completed"
    },
    "tags": []
   },
   "source": [
    "Checking the data for the number of unique values:"
   ]
  },
  {
   "cell_type": "code",
   "execution_count": 5,
   "metadata": {
    "execution": {
     "iopub.execute_input": "2021-06-13T07:52:56.156889Z",
     "iopub.status.busy": "2021-06-13T07:52:56.155867Z",
     "iopub.status.idle": "2021-06-13T07:52:56.189183Z",
     "shell.execute_reply": "2021-06-13T07:52:56.188671Z",
     "shell.execute_reply.started": "2021-06-13T07:49:18.040027Z"
    },
    "papermill": {
     "duration": 0.069514,
     "end_time": "2021-06-13T07:52:56.189312",
     "exception": false,
     "start_time": "2021-06-13T07:52:56.119798",
     "status": "completed"
    },
    "tags": []
   },
   "outputs": [
    {
     "data": {
      "text/plain": [
       "trans_date     1401\n",
       "customer_id    6889\n",
       "dtype: int64"
      ]
     },
     "execution_count": 5,
     "metadata": {},
     "output_type": "execute_result"
    }
   ],
   "source": [
    "recency.apply(pd.Series.nunique)"
   ]
  },
  {
   "cell_type": "markdown",
   "metadata": {
    "papermill": {
     "duration": 0.03301,
     "end_time": "2021-06-13T07:52:56.255609",
     "exception": false,
     "start_time": "2021-06-13T07:52:56.222599",
     "status": "completed"
    },
    "tags": []
   },
   "source": [
    "Lets take a look at the dimensions of our data:"
   ]
  },
  {
   "cell_type": "code",
   "execution_count": 6,
   "metadata": {
    "execution": {
     "iopub.execute_input": "2021-06-13T07:52:56.327643Z",
     "iopub.status.busy": "2021-06-13T07:52:56.326854Z",
     "iopub.status.idle": "2021-06-13T07:52:56.331050Z",
     "shell.execute_reply": "2021-06-13T07:52:56.330454Z",
     "shell.execute_reply.started": "2021-06-13T07:49:18.080528Z"
    },
    "papermill": {
     "duration": 0.042154,
     "end_time": "2021-06-13T07:52:56.331160",
     "exception": false,
     "start_time": "2021-06-13T07:52:56.289006",
     "status": "completed"
    },
    "tags": []
   },
   "outputs": [
    {
     "data": {
      "text/plain": [
       "(125000, 2)"
      ]
     },
     "execution_count": 6,
     "metadata": {},
     "output_type": "execute_result"
    }
   ],
   "source": [
    "recency.shape"
   ]
  },
  {
   "cell_type": "markdown",
   "metadata": {
    "papermill": {
     "duration": 0.034236,
     "end_time": "2021-06-13T07:52:56.399036",
     "exception": false,
     "start_time": "2021-06-13T07:52:56.364800",
     "status": "completed"
    },
    "tags": []
   },
   "source": [
    "Time to work with dates:"
   ]
  },
  {
   "cell_type": "code",
   "execution_count": 7,
   "metadata": {
    "execution": {
     "iopub.execute_input": "2021-06-13T07:52:56.470058Z",
     "iopub.status.busy": "2021-06-13T07:52:56.469061Z",
     "iopub.status.idle": "2021-06-13T07:53:06.341371Z",
     "shell.execute_reply": "2021-06-13T07:53:06.340827Z",
     "shell.execute_reply.started": "2021-06-13T07:49:18.090031Z"
    },
    "papermill": {
     "duration": 9.9087,
     "end_time": "2021-06-13T07:53:06.341497",
     "exception": false,
     "start_time": "2021-06-13T07:52:56.432797",
     "status": "completed"
    },
    "tags": []
   },
   "outputs": [
    {
     "data": {
      "text/plain": [
       "Timestamp('2015-03-16 00:00:00')"
      ]
     },
     "execution_count": 7,
     "metadata": {},
     "output_type": "execute_result"
    }
   ],
   "source": [
    "# For recency will check what was the last date of transaction\n",
    "#First will convert the InvoiceDate as date variable\n",
    "data['trans_date']=pd.to_datetime(data['trans_date'])\n",
    "data['trans_date'].max()"
   ]
  },
  {
   "cell_type": "code",
   "execution_count": 8,
   "metadata": {
    "execution": {
     "iopub.execute_input": "2021-06-13T07:53:06.423755Z",
     "iopub.status.busy": "2021-06-13T07:53:06.422625Z",
     "iopub.status.idle": "2021-06-13T07:53:07.178711Z",
     "shell.execute_reply": "2021-06-13T07:53:07.178154Z",
     "shell.execute_reply.started": "2021-06-13T07:49:27.947876Z"
    },
    "papermill": {
     "duration": 0.80323,
     "end_time": "2021-06-13T07:53:07.178836",
     "exception": false,
     "start_time": "2021-06-13T07:53:06.375606",
     "status": "completed"
    },
    "tags": []
   },
   "outputs": [],
   "source": [
    "#calculate recency\n",
    "Latest_date = dt.datetime(2015,3,16)\n",
    "Recency = data.groupby('customer_id').agg({'trans_date' : lambda x :(Latest_date - x.max()).days})"
   ]
  },
  {
   "cell_type": "code",
   "execution_count": 9,
   "metadata": {
    "execution": {
     "iopub.execute_input": "2021-06-13T07:53:07.258149Z",
     "iopub.status.busy": "2021-06-13T07:53:07.257263Z",
     "iopub.status.idle": "2021-06-13T07:53:07.261581Z",
     "shell.execute_reply": "2021-06-13T07:53:07.260944Z",
     "shell.execute_reply.started": "2021-06-13T07:49:28.706116Z"
    },
    "papermill": {
     "duration": 0.049037,
     "end_time": "2021-06-13T07:53:07.261694",
     "exception": false,
     "start_time": "2021-06-13T07:53:07.212657",
     "status": "completed"
    },
    "tags": []
   },
   "outputs": [
    {
     "data": {
      "text/html": [
       "<div>\n",
       "<style scoped>\n",
       "    .dataframe tbody tr th:only-of-type {\n",
       "        vertical-align: middle;\n",
       "    }\n",
       "\n",
       "    .dataframe tbody tr th {\n",
       "        vertical-align: top;\n",
       "    }\n",
       "\n",
       "    .dataframe thead th {\n",
       "        text-align: right;\n",
       "    }\n",
       "</style>\n",
       "<table border=\"1\" class=\"dataframe\">\n",
       "  <thead>\n",
       "    <tr style=\"text-align: right;\">\n",
       "      <th></th>\n",
       "      <th>Recency</th>\n",
       "    </tr>\n",
       "    <tr>\n",
       "      <th>customer_id</th>\n",
       "      <th></th>\n",
       "    </tr>\n",
       "  </thead>\n",
       "  <tbody>\n",
       "    <tr>\n",
       "      <th>CS1112</th>\n",
       "      <td>61</td>\n",
       "    </tr>\n",
       "    <tr>\n",
       "      <th>CS1113</th>\n",
       "      <td>35</td>\n",
       "    </tr>\n",
       "    <tr>\n",
       "      <th>CS1114</th>\n",
       "      <td>32</td>\n",
       "    </tr>\n",
       "    <tr>\n",
       "      <th>CS1115</th>\n",
       "      <td>11</td>\n",
       "    </tr>\n",
       "    <tr>\n",
       "      <th>CS1116</th>\n",
       "      <td>203</td>\n",
       "    </tr>\n",
       "  </tbody>\n",
       "</table>\n",
       "</div>"
      ],
      "text/plain": [
       "             Recency\n",
       "customer_id         \n",
       "CS1112            61\n",
       "CS1113            35\n",
       "CS1114            32\n",
       "CS1115            11\n",
       "CS1116           203"
      ]
     },
     "execution_count": 9,
     "metadata": {},
     "output_type": "execute_result"
    }
   ],
   "source": [
    "Recency.rename(columns = {'trans_date' : 'Recency'},inplace = True)\n",
    "Recency.head()"
   ]
  },
  {
   "cell_type": "markdown",
   "metadata": {
    "papermill": {
     "duration": 0.034097,
     "end_time": "2021-06-13T07:53:07.330233",
     "exception": false,
     "start_time": "2021-06-13T07:53:07.296136",
     "status": "completed"
    },
    "tags": []
   },
   "source": [
    "The groupby function in pandas allows of for grouping of many index column values or as we saw above there were more than one instances of a single customer purchasing so we will combine all their purchases"
   ]
  },
  {
   "cell_type": "markdown",
   "metadata": {
    "papermill": {
     "duration": 0.035336,
     "end_time": "2021-06-13T07:53:07.400714",
     "exception": false,
     "start_time": "2021-06-13T07:53:07.365378",
     "status": "completed"
    },
    "tags": []
   },
   "source": [
    "Recency refers to the time since the last purchase and we will find out the number of days:"
   ]
  },
  {
   "cell_type": "code",
   "execution_count": 10,
   "metadata": {
    "execution": {
     "iopub.execute_input": "2021-06-13T07:53:07.486277Z",
     "iopub.status.busy": "2021-06-13T07:53:07.477854Z",
     "iopub.status.idle": "2021-06-13T07:53:07.510104Z",
     "shell.execute_reply": "2021-06-13T07:53:07.508437Z",
     "shell.execute_reply.started": "2021-06-13T07:49:28.721656Z"
    },
    "papermill": {
     "duration": 0.074243,
     "end_time": "2021-06-13T07:53:07.510265",
     "exception": false,
     "start_time": "2021-06-13T07:53:07.436022",
     "status": "completed"
    },
    "tags": []
   },
   "outputs": [],
   "source": [
    "monetary = data.groupby(['customer_id']).sum(['tran_amount'])"
   ]
  },
  {
   "cell_type": "code",
   "execution_count": 11,
   "metadata": {
    "execution": {
     "iopub.execute_input": "2021-06-13T07:53:07.592304Z",
     "iopub.status.busy": "2021-06-13T07:53:07.591236Z",
     "iopub.status.idle": "2021-06-13T07:53:07.595430Z",
     "shell.execute_reply": "2021-06-13T07:53:07.594928Z",
     "shell.execute_reply.started": "2021-06-13T07:49:28.754866Z"
    },
    "papermill": {
     "duration": 0.049429,
     "end_time": "2021-06-13T07:53:07.595561",
     "exception": false,
     "start_time": "2021-06-13T07:53:07.546132",
     "status": "completed"
    },
    "tags": []
   },
   "outputs": [
    {
     "data": {
      "text/html": [
       "<div>\n",
       "<style scoped>\n",
       "    .dataframe tbody tr th:only-of-type {\n",
       "        vertical-align: middle;\n",
       "    }\n",
       "\n",
       "    .dataframe tbody tr th {\n",
       "        vertical-align: top;\n",
       "    }\n",
       "\n",
       "    .dataframe thead th {\n",
       "        text-align: right;\n",
       "    }\n",
       "</style>\n",
       "<table border=\"1\" class=\"dataframe\">\n",
       "  <thead>\n",
       "    <tr style=\"text-align: right;\">\n",
       "      <th></th>\n",
       "      <th>Monetary</th>\n",
       "    </tr>\n",
       "    <tr>\n",
       "      <th>customer_id</th>\n",
       "      <th></th>\n",
       "    </tr>\n",
       "  </thead>\n",
       "  <tbody>\n",
       "    <tr>\n",
       "      <th>CS1112</th>\n",
       "      <td>1012</td>\n",
       "    </tr>\n",
       "    <tr>\n",
       "      <th>CS1113</th>\n",
       "      <td>1490</td>\n",
       "    </tr>\n",
       "    <tr>\n",
       "      <th>CS1114</th>\n",
       "      <td>1432</td>\n",
       "    </tr>\n",
       "    <tr>\n",
       "      <th>CS1115</th>\n",
       "      <td>1659</td>\n",
       "    </tr>\n",
       "    <tr>\n",
       "      <th>CS1116</th>\n",
       "      <td>857</td>\n",
       "    </tr>\n",
       "  </tbody>\n",
       "</table>\n",
       "</div>"
      ],
      "text/plain": [
       "             Monetary\n",
       "customer_id          \n",
       "CS1112           1012\n",
       "CS1113           1490\n",
       "CS1114           1432\n",
       "CS1115           1659\n",
       "CS1116            857"
      ]
     },
     "execution_count": 11,
     "metadata": {},
     "output_type": "execute_result"
    }
   ],
   "source": [
    "monetary.rename(columns = {'tran_amount' : 'Monetary'},inplace = True)\n",
    "monetary.head()"
   ]
  },
  {
   "cell_type": "markdown",
   "metadata": {
    "papermill": {
     "duration": 0.034536,
     "end_time": "2021-06-13T07:53:07.665202",
     "exception": false,
     "start_time": "2021-06-13T07:53:07.630666",
     "status": "completed"
    },
    "tags": []
   },
   "source": [
    "Frequency tells us how many times a customer has made purchases:"
   ]
  },
  {
   "cell_type": "code",
   "execution_count": 12,
   "metadata": {
    "execution": {
     "iopub.execute_input": "2021-06-13T07:53:07.742817Z",
     "iopub.status.busy": "2021-06-13T07:53:07.741899Z",
     "iopub.status.idle": "2021-06-13T07:53:07.744902Z",
     "shell.execute_reply": "2021-06-13T07:53:07.744214Z",
     "shell.execute_reply.started": "2021-06-13T07:49:28.766204Z"
    },
    "papermill": {
     "duration": 0.045078,
     "end_time": "2021-06-13T07:53:07.745019",
     "exception": false,
     "start_time": "2021-06-13T07:53:07.699941",
     "status": "completed"
    },
    "tags": []
   },
   "outputs": [],
   "source": [
    "frequency = data[['customer_id', 'trans_date']]"
   ]
  },
  {
   "cell_type": "code",
   "execution_count": 13,
   "metadata": {
    "execution": {
     "iopub.execute_input": "2021-06-13T07:53:07.824904Z",
     "iopub.status.busy": "2021-06-13T07:53:07.824181Z",
     "iopub.status.idle": "2021-06-13T07:53:07.847576Z",
     "shell.execute_reply": "2021-06-13T07:53:07.846838Z",
     "shell.execute_reply.started": "2021-06-13T07:49:28.782620Z"
    },
    "papermill": {
     "duration": 0.06755,
     "end_time": "2021-06-13T07:53:07.847695",
     "exception": false,
     "start_time": "2021-06-13T07:53:07.780145",
     "status": "completed"
    },
    "tags": []
   },
   "outputs": [],
   "source": [
    "frequency = frequency.groupby(['customer_id']).count()"
   ]
  },
  {
   "cell_type": "code",
   "execution_count": 14,
   "metadata": {
    "execution": {
     "iopub.execute_input": "2021-06-13T07:53:07.927368Z",
     "iopub.status.busy": "2021-06-13T07:53:07.926251Z",
     "iopub.status.idle": "2021-06-13T07:53:07.930691Z",
     "shell.execute_reply": "2021-06-13T07:53:07.930151Z",
     "shell.execute_reply.started": "2021-06-13T07:49:28.819661Z"
    },
    "papermill": {
     "duration": 0.048141,
     "end_time": "2021-06-13T07:53:07.930811",
     "exception": false,
     "start_time": "2021-06-13T07:53:07.882670",
     "status": "completed"
    },
    "tags": []
   },
   "outputs": [
    {
     "data": {
      "text/html": [
       "<div>\n",
       "<style scoped>\n",
       "    .dataframe tbody tr th:only-of-type {\n",
       "        vertical-align: middle;\n",
       "    }\n",
       "\n",
       "    .dataframe tbody tr th {\n",
       "        vertical-align: top;\n",
       "    }\n",
       "\n",
       "    .dataframe thead th {\n",
       "        text-align: right;\n",
       "    }\n",
       "</style>\n",
       "<table border=\"1\" class=\"dataframe\">\n",
       "  <thead>\n",
       "    <tr style=\"text-align: right;\">\n",
       "      <th></th>\n",
       "      <th>Frequency</th>\n",
       "    </tr>\n",
       "    <tr>\n",
       "      <th>customer_id</th>\n",
       "      <th></th>\n",
       "    </tr>\n",
       "  </thead>\n",
       "  <tbody>\n",
       "    <tr>\n",
       "      <th>CS1112</th>\n",
       "      <td>15</td>\n",
       "    </tr>\n",
       "    <tr>\n",
       "      <th>CS1113</th>\n",
       "      <td>20</td>\n",
       "    </tr>\n",
       "    <tr>\n",
       "      <th>CS1114</th>\n",
       "      <td>19</td>\n",
       "    </tr>\n",
       "    <tr>\n",
       "      <th>CS1115</th>\n",
       "      <td>22</td>\n",
       "    </tr>\n",
       "    <tr>\n",
       "      <th>CS1116</th>\n",
       "      <td>13</td>\n",
       "    </tr>\n",
       "  </tbody>\n",
       "</table>\n",
       "</div>"
      ],
      "text/plain": [
       "             Frequency\n",
       "customer_id           \n",
       "CS1112              15\n",
       "CS1113              20\n",
       "CS1114              19\n",
       "CS1115              22\n",
       "CS1116              13"
      ]
     },
     "execution_count": 14,
     "metadata": {},
     "output_type": "execute_result"
    }
   ],
   "source": [
    "frequency.rename(columns = {'trans_date' : 'Frequency'},inplace = True)\n",
    "frequency.head()"
   ]
  },
  {
   "cell_type": "markdown",
   "metadata": {
    "papermill": {
     "duration": 0.035151,
     "end_time": "2021-06-13T07:53:08.002829",
     "exception": false,
     "start_time": "2021-06-13T07:53:07.967678",
     "status": "completed"
    },
    "tags": []
   },
   "source": [
    "After that, we catenate the dataframes with 3 factors"
   ]
  },
  {
   "cell_type": "code",
   "execution_count": 15,
   "metadata": {
    "execution": {
     "iopub.execute_input": "2021-06-13T07:53:08.085524Z",
     "iopub.status.busy": "2021-06-13T07:53:08.084512Z",
     "iopub.status.idle": "2021-06-13T07:53:08.087570Z",
     "shell.execute_reply": "2021-06-13T07:53:08.086912Z",
     "shell.execute_reply.started": "2021-06-13T07:49:28.832622Z"
    },
    "papermill": {
     "duration": 0.049352,
     "end_time": "2021-06-13T07:53:08.087683",
     "exception": false,
     "start_time": "2021-06-13T07:53:08.038331",
     "status": "completed"
    },
    "tags": []
   },
   "outputs": [],
   "source": [
    "rfm = pd.concat([Recency, frequency, monetary], axis=1)"
   ]
  },
  {
   "cell_type": "code",
   "execution_count": 16,
   "metadata": {
    "execution": {
     "iopub.execute_input": "2021-06-13T07:53:08.168297Z",
     "iopub.status.busy": "2021-06-13T07:53:08.167531Z",
     "iopub.status.idle": "2021-06-13T07:53:08.171669Z",
     "shell.execute_reply": "2021-06-13T07:53:08.170993Z",
     "shell.execute_reply.started": "2021-06-13T07:49:28.847538Z"
    },
    "papermill": {
     "duration": 0.048764,
     "end_time": "2021-06-13T07:53:08.171792",
     "exception": false,
     "start_time": "2021-06-13T07:53:08.123028",
     "status": "completed"
    },
    "tags": []
   },
   "outputs": [
    {
     "data": {
      "text/html": [
       "<div>\n",
       "<style scoped>\n",
       "    .dataframe tbody tr th:only-of-type {\n",
       "        vertical-align: middle;\n",
       "    }\n",
       "\n",
       "    .dataframe tbody tr th {\n",
       "        vertical-align: top;\n",
       "    }\n",
       "\n",
       "    .dataframe thead th {\n",
       "        text-align: right;\n",
       "    }\n",
       "</style>\n",
       "<table border=\"1\" class=\"dataframe\">\n",
       "  <thead>\n",
       "    <tr style=\"text-align: right;\">\n",
       "      <th></th>\n",
       "      <th>recency</th>\n",
       "      <th>frequency</th>\n",
       "      <th>monetary</th>\n",
       "    </tr>\n",
       "    <tr>\n",
       "      <th>customer_id</th>\n",
       "      <th></th>\n",
       "      <th></th>\n",
       "      <th></th>\n",
       "    </tr>\n",
       "  </thead>\n",
       "  <tbody>\n",
       "    <tr>\n",
       "      <th>CS1112</th>\n",
       "      <td>61</td>\n",
       "      <td>15</td>\n",
       "      <td>1012</td>\n",
       "    </tr>\n",
       "    <tr>\n",
       "      <th>CS1113</th>\n",
       "      <td>35</td>\n",
       "      <td>20</td>\n",
       "      <td>1490</td>\n",
       "    </tr>\n",
       "    <tr>\n",
       "      <th>CS1114</th>\n",
       "      <td>32</td>\n",
       "      <td>19</td>\n",
       "      <td>1432</td>\n",
       "    </tr>\n",
       "    <tr>\n",
       "      <th>CS1115</th>\n",
       "      <td>11</td>\n",
       "      <td>22</td>\n",
       "      <td>1659</td>\n",
       "    </tr>\n",
       "    <tr>\n",
       "      <th>CS1116</th>\n",
       "      <td>203</td>\n",
       "      <td>13</td>\n",
       "      <td>857</td>\n",
       "    </tr>\n",
       "  </tbody>\n",
       "</table>\n",
       "</div>"
      ],
      "text/plain": [
       "             recency  frequency  monetary\n",
       "customer_id                              \n",
       "CS1112            61         15      1012\n",
       "CS1113            35         20      1490\n",
       "CS1114            32         19      1432\n",
       "CS1115            11         22      1659\n",
       "CS1116           203         13       857"
      ]
     },
     "execution_count": 16,
     "metadata": {},
     "output_type": "execute_result"
    }
   ],
   "source": [
    "# Defining the columns:\n",
    "rfm.columns=['recency', 'frequency', 'monetary']\n",
    "\n",
    "rfm.head()"
   ]
  },
  {
   "cell_type": "markdown",
   "metadata": {
    "papermill": {
     "duration": 0.035353,
     "end_time": "2021-06-13T07:53:08.243112",
     "exception": false,
     "start_time": "2021-06-13T07:53:08.207759",
     "status": "completed"
    },
    "tags": []
   },
   "source": [
    "Finally concatenating the dataframes:"
   ]
  },
  {
   "cell_type": "markdown",
   "metadata": {
    "papermill": {
     "duration": 0.035216,
     "end_time": "2021-06-13T07:53:08.313819",
     "exception": false,
     "start_time": "2021-06-13T07:53:08.278603",
     "status": "completed"
    },
    "tags": []
   },
   "source": [
    "# RFM Analysis:"
   ]
  },
  {
   "cell_type": "code",
   "execution_count": 17,
   "metadata": {
    "execution": {
     "iopub.execute_input": "2021-06-13T07:53:08.392918Z",
     "iopub.status.busy": "2021-06-13T07:53:08.390906Z",
     "iopub.status.idle": "2021-06-13T07:53:08.410466Z",
     "shell.execute_reply": "2021-06-13T07:53:08.409804Z",
     "shell.execute_reply.started": "2021-06-13T07:49:28.865600Z"
    },
    "papermill": {
     "duration": 0.061234,
     "end_time": "2021-06-13T07:53:08.410594",
     "exception": false,
     "start_time": "2021-06-13T07:53:08.349360",
     "status": "completed"
    },
    "tags": []
   },
   "outputs": [
    {
     "data": {
      "text/html": [
       "<div>\n",
       "<style scoped>\n",
       "    .dataframe tbody tr th:only-of-type {\n",
       "        vertical-align: middle;\n",
       "    }\n",
       "\n",
       "    .dataframe tbody tr th {\n",
       "        vertical-align: top;\n",
       "    }\n",
       "\n",
       "    .dataframe thead th {\n",
       "        text-align: right;\n",
       "    }\n",
       "</style>\n",
       "<table border=\"1\" class=\"dataframe\">\n",
       "  <thead>\n",
       "    <tr style=\"text-align: right;\">\n",
       "      <th></th>\n",
       "      <th>recency</th>\n",
       "      <th>frequency</th>\n",
       "      <th>monetary</th>\n",
       "    </tr>\n",
       "  </thead>\n",
       "  <tbody>\n",
       "    <tr>\n",
       "      <th>count</th>\n",
       "      <td>6889.000000</td>\n",
       "      <td>6889.000000</td>\n",
       "      <td>6889.000000</td>\n",
       "    </tr>\n",
       "    <tr>\n",
       "      <th>mean</th>\n",
       "      <td>80.538249</td>\n",
       "      <td>18.144869</td>\n",
       "      <td>1179.269705</td>\n",
       "    </tr>\n",
       "    <tr>\n",
       "      <th>std</th>\n",
       "      <td>85.382526</td>\n",
       "      <td>5.193014</td>\n",
       "      <td>465.832609</td>\n",
       "    </tr>\n",
       "    <tr>\n",
       "      <th>min</th>\n",
       "      <td>0.000000</td>\n",
       "      <td>4.000000</td>\n",
       "      <td>149.000000</td>\n",
       "    </tr>\n",
       "    <tr>\n",
       "      <th>25%</th>\n",
       "      <td>22.000000</td>\n",
       "      <td>14.000000</td>\n",
       "      <td>781.000000</td>\n",
       "    </tr>\n",
       "    <tr>\n",
       "      <th>50%</th>\n",
       "      <td>53.000000</td>\n",
       "      <td>18.000000</td>\n",
       "      <td>1227.000000</td>\n",
       "    </tr>\n",
       "    <tr>\n",
       "      <th>75%</th>\n",
       "      <td>111.000000</td>\n",
       "      <td>22.000000</td>\n",
       "      <td>1520.000000</td>\n",
       "    </tr>\n",
       "    <tr>\n",
       "      <th>max</th>\n",
       "      <td>857.000000</td>\n",
       "      <td>39.000000</td>\n",
       "      <td>2933.000000</td>\n",
       "    </tr>\n",
       "  </tbody>\n",
       "</table>\n",
       "</div>"
      ],
      "text/plain": [
       "           recency    frequency     monetary\n",
       "count  6889.000000  6889.000000  6889.000000\n",
       "mean     80.538249    18.144869  1179.269705\n",
       "std      85.382526     5.193014   465.832609\n",
       "min       0.000000     4.000000   149.000000\n",
       "25%      22.000000    14.000000   781.000000\n",
       "50%      53.000000    18.000000  1227.000000\n",
       "75%     111.000000    22.000000  1520.000000\n",
       "max     857.000000    39.000000  2933.000000"
      ]
     },
     "execution_count": 17,
     "metadata": {},
     "output_type": "execute_result"
    }
   ],
   "source": [
    "# RFM_data Description/ Summary\n",
    "rfm.describe()"
   ]
  },
  {
   "cell_type": "code",
   "execution_count": 18,
   "metadata": {
    "execution": {
     "iopub.execute_input": "2021-06-13T07:53:08.489621Z",
     "iopub.status.busy": "2021-06-13T07:53:08.488895Z",
     "iopub.status.idle": "2021-06-13T07:53:08.826616Z",
     "shell.execute_reply": "2021-06-13T07:53:08.825937Z",
     "shell.execute_reply.started": "2021-06-13T07:49:28.895567Z"
    },
    "papermill": {
     "duration": 0.380018,
     "end_time": "2021-06-13T07:53:08.826728",
     "exception": false,
     "start_time": "2021-06-13T07:53:08.446710",
     "status": "completed"
    },
    "tags": []
   },
   "outputs": [
    {
     "data": {
      "text/plain": [
       "Text(0.5, 0, 'Days since last purchase')"
      ]
     },
     "execution_count": 18,
     "metadata": {},
     "output_type": "execute_result"
    },
    {
     "data": {
      "image/png": "[encoded data removed]",
      "text/plain": [
       "<Figure size 576x576 with 1 Axes>"
      ]
     },
     "metadata": {
      "needs_background": "light"
     },
     "output_type": "display_data"
    }
   ],
   "source": [
    "# Plotting for the last day since the customer made a purchase:\n",
    "\n",
    "import seaborn as sns\n",
    "import matplotlib.pyplot as plt\n",
    "\n",
    "plt.figure(figsize=(8,8))\n",
    "sns.set_context(\"poster\")\n",
    "sns.set_palette(['skyblue'])\n",
    "sns.distplot(rfm['recency'])\n",
    "plt.xlabel('Days since last purchase')"
   ]
  },
  {
   "cell_type": "code",
   "execution_count": 19,
   "metadata": {
    "execution": {
     "iopub.execute_input": "2021-06-13T07:53:08.917226Z",
     "iopub.status.busy": "2021-06-13T07:53:08.916160Z",
     "iopub.status.idle": "2021-06-13T07:53:09.142724Z",
     "shell.execute_reply": "2021-06-13T07:53:09.142157Z",
     "shell.execute_reply.started": "2021-06-13T07:49:29.177946Z"
    },
    "papermill": {
     "duration": 0.276741,
     "end_time": "2021-06-13T07:53:09.142853",
     "exception": false,
     "start_time": "2021-06-13T07:53:08.866112",
     "status": "completed"
    },
    "tags": []
   },
   "outputs": [
    {
     "data": {
      "text/plain": [
       "<matplotlib.axes._subplots.AxesSubplot at 0x7fe9d5d4c710>"
      ]
     },
     "execution_count": 19,
     "metadata": {},
     "output_type": "execute_result"
    },
    {
     "data": {
      "image/png": "[encoded data removed]",
      "text/plain": [
       "<Figure size 576x576 with 1 Axes>"
      ]
     },
     "metadata": {
      "needs_background": "light"
     },
     "output_type": "display_data"
    }
   ],
   "source": [
    "# Plotting the number of times the customer has made a purchase:\n",
    "\n",
    "plt.figure(figsize=(8,8))\n",
    "sns.set_context(\"poster\")\n",
    "sns.set_palette(['pink'])\n",
    "sns.distplot(rfm['frequency'])\n"
   ]
  },
  {
   "cell_type": "code",
   "execution_count": 20,
   "metadata": {
    "execution": {
     "iopub.execute_input": "2021-06-13T07:53:09.233019Z",
     "iopub.status.busy": "2021-06-13T07:53:09.232162Z",
     "iopub.status.idle": "2021-06-13T07:53:09.443593Z",
     "shell.execute_reply": "2021-06-13T07:53:09.442671Z",
     "shell.execute_reply.started": "2021-06-13T07:49:29.408304Z"
    },
    "papermill": {
     "duration": 0.2617,
     "end_time": "2021-06-13T07:53:09.443725",
     "exception": false,
     "start_time": "2021-06-13T07:53:09.182025",
     "status": "completed"
    },
    "tags": []
   },
   "outputs": [
    {
     "data": {
      "text/plain": [
       "Text(0.5, 0, 'Dollars')"
      ]
     },
     "execution_count": 20,
     "metadata": {},
     "output_type": "execute_result"
    },
    {
     "data": {
      "image/png": "[encoded data removed]",
      "text/plain": [
       "<Figure size 576x576 with 1 Axes>"
      ]
     },
     "metadata": {
      "needs_background": "light"
     },
     "output_type": "display_data"
    }
   ],
   "source": [
    "# Plotting the total revenue that the particular customer brought in to the shop:\n",
    "\n",
    "plt.figure(figsize=(8,8))\n",
    "sns.set_context(\"poster\")\n",
    "sns.set_palette(['orange'])\n",
    "sns.distplot(rfm['monetary'])\n",
    "plt.xlabel('Dollars')"
   ]
  },
  {
   "cell_type": "markdown",
   "metadata": {
    "papermill": {
     "duration": 0.0416,
     "end_time": "2021-06-13T07:53:09.528224",
     "exception": false,
     "start_time": "2021-06-13T07:53:09.486624",
     "status": "completed"
    },
    "tags": []
   },
   "source": [
    "Since we have a basic idea of what the distribution of the three indicators, lets use quantiles to educate ourselves further with quantiles:"
   ]
  },
  {
   "cell_type": "markdown",
   "metadata": {
    "execution": {
     "iopub.execute_input": "2021-06-13T07:35:41.926893Z",
     "iopub.status.busy": "2021-06-13T07:35:41.926516Z",
     "iopub.status.idle": "2021-06-13T07:35:42.733056Z",
     "shell.execute_reply": "2021-06-13T07:35:42.732008Z",
     "shell.execute_reply.started": "2021-06-13T07:35:41.926862Z"
    },
    "papermill": {
     "duration": 0.041709,
     "end_time": "2021-06-13T07:53:09.612413",
     "exception": false,
     "start_time": "2021-06-13T07:53:09.570704",
     "status": "completed"
    },
    "tags": []
   },
   "source": [
    "#Visualizing the Recency, Frequency and Monetary distributions.\n",
    "i = 0\n",
    "fig = plt.figure(constrained_layout = True,figsize = (20,5))\n",
    "gs = GridSpec(1, 3, figure=fig)    \n",
    "\n",
    "col = ['red','blue','green']\n",
    "for var in list(rfm.columns[1:4]):\n",
    "    plt.subplot(gs[0,i])\n",
    "    sns.distplot(rfm[var],color= col[i])\n",
    "    plt.title('Skewness ' + ': ' + round(rfm[var].skew(),2).astype(str))\n",
    "    i= i+1"
   ]
  },
  {
   "cell_type": "markdown",
   "metadata": {
    "execution": {
     "iopub.execute_input": "2021-06-13T07:44:07.710965Z",
     "iopub.status.busy": "2021-06-13T07:44:07.710426Z",
     "iopub.status.idle": "2021-06-13T07:44:07.724706Z",
     "shell.execute_reply": "2021-06-13T07:44:07.723715Z",
     "shell.execute_reply.started": "2021-06-13T07:44:07.710912Z"
    },
    "papermill": {
     "duration": 0.041718,
     "end_time": "2021-06-13T07:53:09.696690",
     "exception": false,
     "start_time": "2021-06-13T07:53:09.654972",
     "status": "completed"
    },
    "tags": []
   },
   "source": [
    "RFM = rfm.head().reset_index()\n",
    "RFM"
   ]
  },
  {
   "cell_type": "code",
   "execution_count": 21,
   "metadata": {
    "execution": {
     "iopub.execute_input": "2021-06-13T07:53:09.786467Z",
     "iopub.status.busy": "2021-06-13T07:53:09.785782Z",
     "iopub.status.idle": "2021-06-13T07:53:09.792378Z",
     "shell.execute_reply": "2021-06-13T07:53:09.792906Z",
     "shell.execute_reply.started": "2021-06-13T07:51:45.884566Z"
    },
    "papermill": {
     "duration": 0.054643,
     "end_time": "2021-06-13T07:53:09.793059",
     "exception": false,
     "start_time": "2021-06-13T07:53:09.738416",
     "status": "completed"
    },
    "tags": []
   },
   "outputs": [
    {
     "data": {
      "text/plain": [
       "{'recency': {0.25: 22.0, 0.5: 53.0, 0.75: 111.0},\n",
       " 'frequency': {0.25: 14.0, 0.5: 18.0, 0.75: 22.0},\n",
       " 'monetary': {0.25: 781.0, 0.5: 1227.0, 0.75: 1520.0}}"
      ]
     },
     "execution_count": 21,
     "metadata": {},
     "output_type": "execute_result"
    }
   ],
   "source": [
    "#Segmentation :\n",
    "#Here, we will divide the data set into 4 parts based on the quantiles.\n",
    "quantiles = rfm.quantile(q = [0.25,0.5,0.75])\n",
    "quantiles.to_dict()"
   ]
  },
  {
   "cell_type": "code",
   "execution_count": 22,
   "metadata": {
    "execution": {
     "iopub.execute_input": "2021-06-13T07:53:09.879180Z",
     "iopub.status.busy": "2021-06-13T07:53:09.878451Z",
     "iopub.status.idle": "2021-06-13T07:53:09.892986Z",
     "shell.execute_reply": "2021-06-13T07:53:09.892395Z",
     "shell.execute_reply.started": "2021-06-13T07:51:50.583364Z"
    },
    "papermill": {
     "duration": 0.058482,
     "end_time": "2021-06-13T07:53:09.893100",
     "exception": false,
     "start_time": "2021-06-13T07:53:09.834618",
     "status": "completed"
    },
    "tags": []
   },
   "outputs": [
    {
     "data": {
      "text/html": [
       "<div>\n",
       "<style scoped>\n",
       "    .dataframe tbody tr th:only-of-type {\n",
       "        vertical-align: middle;\n",
       "    }\n",
       "\n",
       "    .dataframe tbody tr th {\n",
       "        vertical-align: top;\n",
       "    }\n",
       "\n",
       "    .dataframe thead th {\n",
       "        text-align: right;\n",
       "    }\n",
       "</style>\n",
       "<table border=\"1\" class=\"dataframe\">\n",
       "  <thead>\n",
       "    <tr style=\"text-align: right;\">\n",
       "      <th></th>\n",
       "      <th>recency</th>\n",
       "      <th>frequency</th>\n",
       "      <th>monetary</th>\n",
       "    </tr>\n",
       "  </thead>\n",
       "  <tbody>\n",
       "    <tr>\n",
       "      <th>0.25</th>\n",
       "      <td>22.0</td>\n",
       "      <td>14.0</td>\n",
       "      <td>781.0</td>\n",
       "    </tr>\n",
       "    <tr>\n",
       "      <th>0.50</th>\n",
       "      <td>53.0</td>\n",
       "      <td>18.0</td>\n",
       "      <td>1227.0</td>\n",
       "    </tr>\n",
       "    <tr>\n",
       "      <th>0.75</th>\n",
       "      <td>111.0</td>\n",
       "      <td>22.0</td>\n",
       "      <td>1520.0</td>\n",
       "    </tr>\n",
       "    <tr>\n",
       "      <th>1.00</th>\n",
       "      <td>857.0</td>\n",
       "      <td>39.0</td>\n",
       "      <td>2933.0</td>\n",
       "    </tr>\n",
       "  </tbody>\n",
       "</table>\n",
       "</div>"
      ],
      "text/plain": [
       "      recency  frequency  monetary\n",
       "0.25     22.0       14.0     781.0\n",
       "0.50     53.0       18.0    1227.0\n",
       "0.75    111.0       22.0    1520.0\n",
       "1.00    857.0       39.0    2933.0"
      ]
     },
     "execution_count": 22,
     "metadata": {},
     "output_type": "execute_result"
    }
   ],
   "source": [
    "rfm.quantile([.25, .5, .75, 1], axis=0)"
   ]
  },
  {
   "cell_type": "code",
   "execution_count": 23,
   "metadata": {
    "execution": {
     "iopub.execute_input": "2021-06-13T07:53:09.999525Z",
     "iopub.status.busy": "2021-06-13T07:53:09.994037Z",
     "iopub.status.idle": "2021-06-13T07:53:10.651790Z",
     "shell.execute_reply": "2021-06-13T07:53:10.651079Z",
     "shell.execute_reply.started": "2021-06-13T07:51:59.061589Z"
    },
    "papermill": {
     "duration": 0.717315,
     "end_time": "2021-06-13T07:53:10.651905",
     "exception": false,
     "start_time": "2021-06-13T07:53:09.934590",
     "status": "completed"
    },
    "tags": []
   },
   "outputs": [
    {
     "data": {
      "text/html": [
       "<div>\n",
       "<style scoped>\n",
       "    .dataframe tbody tr th:only-of-type {\n",
       "        vertical-align: middle;\n",
       "    }\n",
       "\n",
       "    .dataframe tbody tr th {\n",
       "        vertical-align: top;\n",
       "    }\n",
       "\n",
       "    .dataframe thead th {\n",
       "        text-align: right;\n",
       "    }\n",
       "</style>\n",
       "<table border=\"1\" class=\"dataframe\">\n",
       "  <thead>\n",
       "    <tr style=\"text-align: right;\">\n",
       "      <th></th>\n",
       "      <th>recency</th>\n",
       "      <th>frequency</th>\n",
       "      <th>monetary</th>\n",
       "      <th>R_score</th>\n",
       "      <th>F_score</th>\n",
       "      <th>M_score</th>\n",
       "    </tr>\n",
       "    <tr>\n",
       "      <th>customer_id</th>\n",
       "      <th></th>\n",
       "      <th></th>\n",
       "      <th></th>\n",
       "      <th></th>\n",
       "      <th></th>\n",
       "      <th></th>\n",
       "    </tr>\n",
       "  </thead>\n",
       "  <tbody>\n",
       "    <tr>\n",
       "      <th>CS1112</th>\n",
       "      <td>61</td>\n",
       "      <td>15</td>\n",
       "      <td>1012</td>\n",
       "      <td>3</td>\n",
       "      <td>3</td>\n",
       "      <td>3</td>\n",
       "    </tr>\n",
       "    <tr>\n",
       "      <th>CS1113</th>\n",
       "      <td>35</td>\n",
       "      <td>20</td>\n",
       "      <td>1490</td>\n",
       "      <td>2</td>\n",
       "      <td>2</td>\n",
       "      <td>2</td>\n",
       "    </tr>\n",
       "    <tr>\n",
       "      <th>CS1114</th>\n",
       "      <td>32</td>\n",
       "      <td>19</td>\n",
       "      <td>1432</td>\n",
       "      <td>2</td>\n",
       "      <td>2</td>\n",
       "      <td>2</td>\n",
       "    </tr>\n",
       "    <tr>\n",
       "      <th>CS1115</th>\n",
       "      <td>11</td>\n",
       "      <td>22</td>\n",
       "      <td>1659</td>\n",
       "      <td>1</td>\n",
       "      <td>2</td>\n",
       "      <td>1</td>\n",
       "    </tr>\n",
       "    <tr>\n",
       "      <th>CS1116</th>\n",
       "      <td>203</td>\n",
       "      <td>13</td>\n",
       "      <td>857</td>\n",
       "      <td>4</td>\n",
       "      <td>4</td>\n",
       "      <td>3</td>\n",
       "    </tr>\n",
       "  </tbody>\n",
       "</table>\n",
       "</div>"
      ],
      "text/plain": [
       "             recency  frequency  monetary  R_score  F_score  M_score\n",
       "customer_id                                                         \n",
       "CS1112            61         15      1012        3        3        3\n",
       "CS1113            35         20      1490        2        2        2\n",
       "CS1114            32         19      1432        2        2        2\n",
       "CS1115            11         22      1659        1        2        1\n",
       "CS1116           203         13       857        4        4        3"
      ]
     },
     "execution_count": 23,
     "metadata": {},
     "output_type": "execute_result"
    }
   ],
   "source": [
    "#Creating the R,F and M scoring/segement function\n",
    "#[1] Recency scoring (Negative Impact : Higher the value, less valuable)\n",
    "def R_score(var,p,d):\n",
    "    if var <= d[p][0.25]:\n",
    "        return 1\n",
    "    elif var <= d[p][0.50]:\n",
    "        return 2\n",
    "    elif var <= d[p][0.75]:\n",
    "        return 3\n",
    "    else:\n",
    "        return 4\n",
    "#[2] Frequency and Monetary (Positive Impact : Higher the value, better the customer)\n",
    "def FM_score(var,p,d):\n",
    "    if var <= d[p][0.25]:\n",
    "        return 4\n",
    "    elif var <= d[p][0.50]:\n",
    "        return 3\n",
    "    elif var <= d[p][0.75]:\n",
    "        return 2\n",
    "    else:\n",
    "        return 1\n",
    "\n",
    "#Scoring:\n",
    "rfm['R_score'] = rfm['recency'].apply(R_score,args = ('recency',quantiles,))\n",
    "rfm['F_score'] = rfm['frequency'].apply(FM_score,args = ('frequency',quantiles,))\n",
    "rfm['M_score'] = rfm['monetary'].apply(FM_score,args = ('monetary',quantiles,))\n",
    "rfm.head()"
   ]
  },
  {
   "cell_type": "code",
   "execution_count": 24,
   "metadata": {
    "execution": {
     "iopub.execute_input": "2021-06-13T07:53:10.749676Z",
     "iopub.status.busy": "2021-06-13T07:53:10.748955Z",
     "iopub.status.idle": "2021-06-13T07:53:10.793095Z",
     "shell.execute_reply": "2021-06-13T07:53:10.792366Z",
     "shell.execute_reply.started": "2021-06-13T07:52:04.474238Z"
    },
    "papermill": {
     "duration": 0.098016,
     "end_time": "2021-06-13T07:53:10.793213",
     "exception": false,
     "start_time": "2021-06-13T07:53:10.695197",
     "status": "completed"
    },
    "tags": []
   },
   "outputs": [
    {
     "data": {
      "text/html": [
       "<div>\n",
       "<style scoped>\n",
       "    .dataframe tbody tr th:only-of-type {\n",
       "        vertical-align: middle;\n",
       "    }\n",
       "\n",
       "    .dataframe tbody tr th {\n",
       "        vertical-align: top;\n",
       "    }\n",
       "\n",
       "    .dataframe thead th {\n",
       "        text-align: right;\n",
       "    }\n",
       "</style>\n",
       "<table border=\"1\" class=\"dataframe\">\n",
       "  <thead>\n",
       "    <tr style=\"text-align: right;\">\n",
       "      <th></th>\n",
       "      <th>recency</th>\n",
       "      <th>frequency</th>\n",
       "      <th>monetary</th>\n",
       "      <th>R_score</th>\n",
       "      <th>F_score</th>\n",
       "      <th>M_score</th>\n",
       "      <th>RFM_Group</th>\n",
       "      <th>RFM_Score</th>\n",
       "    </tr>\n",
       "    <tr>\n",
       "      <th>customer_id</th>\n",
       "      <th></th>\n",
       "      <th></th>\n",
       "      <th></th>\n",
       "      <th></th>\n",
       "      <th></th>\n",
       "      <th></th>\n",
       "      <th></th>\n",
       "      <th></th>\n",
       "    </tr>\n",
       "  </thead>\n",
       "  <tbody>\n",
       "    <tr>\n",
       "      <th>CS1112</th>\n",
       "      <td>61</td>\n",
       "      <td>15</td>\n",
       "      <td>1012</td>\n",
       "      <td>3</td>\n",
       "      <td>3</td>\n",
       "      <td>3</td>\n",
       "      <td>333</td>\n",
       "      <td>9</td>\n",
       "    </tr>\n",
       "    <tr>\n",
       "      <th>CS1113</th>\n",
       "      <td>35</td>\n",
       "      <td>20</td>\n",
       "      <td>1490</td>\n",
       "      <td>2</td>\n",
       "      <td>2</td>\n",
       "      <td>2</td>\n",
       "      <td>222</td>\n",
       "      <td>6</td>\n",
       "    </tr>\n",
       "    <tr>\n",
       "      <th>CS1114</th>\n",
       "      <td>32</td>\n",
       "      <td>19</td>\n",
       "      <td>1432</td>\n",
       "      <td>2</td>\n",
       "      <td>2</td>\n",
       "      <td>2</td>\n",
       "      <td>222</td>\n",
       "      <td>6</td>\n",
       "    </tr>\n",
       "    <tr>\n",
       "      <th>CS1115</th>\n",
       "      <td>11</td>\n",
       "      <td>22</td>\n",
       "      <td>1659</td>\n",
       "      <td>1</td>\n",
       "      <td>2</td>\n",
       "      <td>1</td>\n",
       "      <td>121</td>\n",
       "      <td>4</td>\n",
       "    </tr>\n",
       "    <tr>\n",
       "      <th>CS1116</th>\n",
       "      <td>203</td>\n",
       "      <td>13</td>\n",
       "      <td>857</td>\n",
       "      <td>4</td>\n",
       "      <td>4</td>\n",
       "      <td>3</td>\n",
       "      <td>443</td>\n",
       "      <td>11</td>\n",
       "    </tr>\n",
       "  </tbody>\n",
       "</table>\n",
       "</div>"
      ],
      "text/plain": [
       "             recency  frequency  monetary  R_score  F_score  M_score  \\\n",
       "customer_id                                                            \n",
       "CS1112            61         15      1012        3        3        3   \n",
       "CS1113            35         20      1490        2        2        2   \n",
       "CS1114            32         19      1432        2        2        2   \n",
       "CS1115            11         22      1659        1        2        1   \n",
       "CS1116           203         13       857        4        4        3   \n",
       "\n",
       "            RFM_Group  RFM_Score  \n",
       "customer_id                       \n",
       "CS1112            333          9  \n",
       "CS1113            222          6  \n",
       "CS1114            222          6  \n",
       "CS1115            121          4  \n",
       "CS1116            443         11  "
      ]
     },
     "execution_count": 24,
     "metadata": {},
     "output_type": "execute_result"
    }
   ],
   "source": [
    "#Now we will create : RFMGroup and RFMScore\n",
    "rfm['RFM_Group'] = rfm['R_score'].astype(str) + rfm['F_score'].astype(str) + rfm['M_score'].astype(str)\n",
    "\n",
    "#Score\n",
    "rfm['RFM_Score'] = rfm[['R_score','F_score','M_score']].sum(axis = 1)\n",
    "rfm.head()"
   ]
  },
  {
   "cell_type": "markdown",
   "metadata": {
    "execution": {
     "iopub.execute_input": "2021-06-13T07:38:23.069753Z",
     "iopub.status.busy": "2021-06-13T07:38:23.0694Z",
     "iopub.status.idle": "2021-06-13T07:38:23.105047Z",
     "shell.execute_reply": "2021-06-13T07:38:23.103969Z",
     "shell.execute_reply.started": "2021-06-13T07:38:23.069723Z"
    },
    "papermill": {
     "duration": 0.041937,
     "end_time": "2021-06-13T07:53:10.878050",
     "exception": false,
     "start_time": "2021-06-13T07:53:10.836113",
     "status": "completed"
    },
    "tags": []
   },
   "source": [
    "# First will focus on the negativ and zero before the transformation.\n",
    "def right_treat(var):\n",
    "    if var <= 0:\n",
    "        return 1\n",
    "    else:\n",
    "        return var\n",
    "\n",
    "# Describing the data\n",
    "RFM.describe()"
   ]
  },
  {
   "cell_type": "markdown",
   "metadata": {
    "execution": {
     "iopub.execute_input": "2021-06-13T07:25:45.231866Z",
     "iopub.status.busy": "2021-06-13T07:25:45.231561Z",
     "iopub.status.idle": "2021-06-13T07:25:45.242787Z",
     "shell.execute_reply": "2021-06-13T07:25:45.241654Z",
     "shell.execute_reply.started": "2021-06-13T07:25:45.231837Z"
    },
    "papermill": {
     "duration": 0.041709,
     "end_time": "2021-06-13T07:53:10.961946",
     "exception": false,
     "start_time": "2021-06-13T07:53:10.920237",
     "status": "completed"
    },
    "tags": []
   },
   "source": [
    "#Applying on the data.\n",
    "RFM['recency'] = RFM['recency'].apply(lambda x : right_treat(x))\n",
    "RFM['monetary'] = RFM['monetary'].apply(lambda x : right_treat(x))\n",
    "\n",
    "#Checking the Skewness of R, F and M\n",
    "print('Recency Skewness : ' + RFM['recency'].skew().astype(str))\n",
    "print('Frequency Skewness : ' + RFM['frequency'].skew().astype(str))\n",
    "print('Monetary Skewness : ' + RFM['monetary'].skew().astype(str))"
   ]
  },
  {
   "cell_type": "markdown",
   "metadata": {
    "execution": {
     "iopub.execute_input": "2021-06-13T07:25:45.245355Z",
     "iopub.status.busy": "2021-06-13T07:25:45.244887Z",
     "iopub.status.idle": "2021-06-13T07:25:45.265264Z",
     "shell.execute_reply": "2021-06-13T07:25:45.264261Z",
     "shell.execute_reply.started": "2021-06-13T07:25:45.245308Z"
    },
    "papermill": {
     "duration": 0.043657,
     "end_time": "2021-06-13T07:53:11.048882",
     "exception": false,
     "start_time": "2021-06-13T07:53:11.005225",
     "status": "completed"
    },
    "tags": []
   },
   "source": [
    "#Log Transformation\n",
    "log_RFM_data = RFM[['recency','frequency','monetary']].apply(np.log,axis = 1).round(4)"
   ]
  },
  {
   "cell_type": "markdown",
   "metadata": {
    "execution": {
     "iopub.execute_input": "2021-06-13T07:25:45.267489Z",
     "iopub.status.busy": "2021-06-13T07:25:45.267162Z",
     "iopub.status.idle": "2021-06-13T07:25:45.926404Z",
     "shell.execute_reply": "2021-06-13T07:25:45.925527Z",
     "shell.execute_reply.started": "2021-06-13T07:25:45.267457Z"
    },
    "papermill": {
     "duration": 0.041898,
     "end_time": "2021-06-13T07:53:11.133019",
     "exception": false,
     "start_time": "2021-06-13T07:53:11.091121",
     "status": "completed"
    },
    "tags": []
   },
   "source": [
    "#Plot after transformation for the distributions :\n",
    "i = 0\n",
    "fig = plt.figure(constrained_layout = True,figsize = (20,5))\n",
    "gs = GridSpec(1, 3, figure=fig)    \n",
    "\n",
    "col = ['red','blue','green']\n",
    "for var in list(log_RFM_data.columns[0:3]):\n",
    "    plt.subplot(gs[0,i])\n",
    "    sns.distplot(log_RFM_data[var],color= col[i])\n",
    "    plt.title('Skewness ' + ': ' + round(log_RFM_data[var].skew(),2).astype(str))\n",
    "    i= i+1\n",
    "log_RFM_data.describe()"
   ]
  },
  {
   "cell_type": "markdown",
   "metadata": {
    "papermill": {
     "duration": 0.04177,
     "end_time": "2021-06-13T07:53:11.217177",
     "exception": false,
     "start_time": "2021-06-13T07:53:11.175407",
     "status": "completed"
    },
    "tags": []
   },
   "source": [
    "Most Valuable Customers (MVCs):"
   ]
  },
  {
   "cell_type": "code",
   "execution_count": 25,
   "metadata": {
    "execution": {
     "iopub.execute_input": "2021-06-13T07:53:11.306614Z",
     "iopub.status.busy": "2021-06-13T07:53:11.305940Z",
     "iopub.status.idle": "2021-06-13T07:53:11.322170Z",
     "shell.execute_reply": "2021-06-13T07:53:11.321631Z",
     "shell.execute_reply.started": "2021-06-13T07:52:09.184354Z"
    },
    "papermill": {
     "duration": 0.06277,
     "end_time": "2021-06-13T07:53:11.322287",
     "exception": false,
     "start_time": "2021-06-13T07:53:11.259517",
     "status": "completed"
    },
    "tags": []
   },
   "outputs": [
    {
     "data": {
      "text/html": [
       "<div>\n",
       "<style scoped>\n",
       "    .dataframe tbody tr th:only-of-type {\n",
       "        vertical-align: middle;\n",
       "    }\n",
       "\n",
       "    .dataframe tbody tr th {\n",
       "        vertical-align: top;\n",
       "    }\n",
       "\n",
       "    .dataframe thead th {\n",
       "        text-align: right;\n",
       "    }\n",
       "</style>\n",
       "<table border=\"1\" class=\"dataframe\">\n",
       "  <thead>\n",
       "    <tr style=\"text-align: right;\">\n",
       "      <th></th>\n",
       "      <th>recency</th>\n",
       "      <th>frequency</th>\n",
       "      <th>monetary</th>\n",
       "      <th>R_score</th>\n",
       "      <th>F_score</th>\n",
       "      <th>M_score</th>\n",
       "      <th>RFM_Score</th>\n",
       "    </tr>\n",
       "  </thead>\n",
       "  <tbody>\n",
       "    <tr>\n",
       "      <th>0.75</th>\n",
       "      <td>111.0</td>\n",
       "      <td>22.0</td>\n",
       "      <td>1520.0</td>\n",
       "      <td>3.0</td>\n",
       "      <td>4.0</td>\n",
       "      <td>4.0</td>\n",
       "      <td>10.0</td>\n",
       "    </tr>\n",
       "  </tbody>\n",
       "</table>\n",
       "</div>"
      ],
      "text/plain": [
       "      recency  frequency  monetary  R_score  F_score  M_score  RFM_Score\n",
       "0.75    111.0       22.0    1520.0      3.0      4.0      4.0       10.0"
      ]
     },
     "execution_count": 25,
     "metadata": {},
     "output_type": "execute_result"
    }
   ],
   "source": [
    "# Using Quantiles we find the limit for our top 25% customers:\n",
    "rfm.quantile([.75], axis=0)"
   ]
  },
  {
   "cell_type": "markdown",
   "metadata": {
    "papermill": {
     "duration": 0.043674,
     "end_time": "2021-06-13T07:53:11.409841",
     "exception": false,
     "start_time": "2021-06-13T07:53:11.366167",
     "status": "completed"
    },
    "tags": []
   },
   "source": [
    "The top customers would be the ones who are in the top 25% of the top RFM Scores:"
   ]
  },
  {
   "cell_type": "code",
   "execution_count": 26,
   "metadata": {
    "execution": {
     "iopub.execute_input": "2021-06-13T07:53:11.505162Z",
     "iopub.status.busy": "2021-06-13T07:53:11.504104Z",
     "iopub.status.idle": "2021-06-13T07:53:11.507488Z",
     "shell.execute_reply": "2021-06-13T07:53:11.506939Z",
     "shell.execute_reply.started": "2021-06-13T07:52:12.270013Z"
    },
    "papermill": {
     "duration": 0.053983,
     "end_time": "2021-06-13T07:53:11.507603",
     "exception": false,
     "start_time": "2021-06-13T07:53:11.453620",
     "status": "completed"
    },
    "tags": []
   },
   "outputs": [],
   "source": [
    "topcustomers = rfm['RFM_Score'].iloc[[x >= 10 for x in rfm['RFM_Score']]]"
   ]
  },
  {
   "cell_type": "code",
   "execution_count": 27,
   "metadata": {
    "execution": {
     "iopub.execute_input": "2021-06-13T07:53:11.602931Z",
     "iopub.status.busy": "2021-06-13T07:53:11.602137Z",
     "iopub.status.idle": "2021-06-13T07:53:11.608410Z",
     "shell.execute_reply": "2021-06-13T07:53:11.609133Z",
     "shell.execute_reply.started": "2021-06-13T07:52:15.981947Z"
    },
    "papermill": {
     "duration": 0.056063,
     "end_time": "2021-06-13T07:53:11.609301",
     "exception": false,
     "start_time": "2021-06-13T07:53:11.553238",
     "status": "completed"
    },
    "tags": []
   },
   "outputs": [],
   "source": [
    "MVCs = pd.DataFrame(topcustomers, columns = ['RFM_Score'])"
   ]
  },
  {
   "cell_type": "code",
   "execution_count": 28,
   "metadata": {
    "execution": {
     "iopub.execute_input": "2021-06-13T07:53:11.707223Z",
     "iopub.status.busy": "2021-06-13T07:53:11.706357Z",
     "iopub.status.idle": "2021-06-13T07:53:11.709388Z",
     "shell.execute_reply": "2021-06-13T07:53:11.708724Z",
     "shell.execute_reply.started": "2021-06-13T07:52:18.095848Z"
    },
    "papermill": {
     "duration": 0.053538,
     "end_time": "2021-06-13T07:53:11.709519",
     "exception": false,
     "start_time": "2021-06-13T07:53:11.655981",
     "status": "completed"
    },
    "tags": []
   },
   "outputs": [],
   "source": [
    "MostValuableCustomers = list(MVCs.index)"
   ]
  },
  {
   "cell_type": "code",
   "execution_count": 29,
   "metadata": {
    "execution": {
     "iopub.execute_input": "2021-06-13T07:53:11.822335Z",
     "iopub.status.busy": "2021-06-13T07:53:11.821605Z",
     "iopub.status.idle": "2021-06-13T07:53:11.827648Z",
     "shell.execute_reply": "2021-06-13T07:53:11.827057Z",
     "shell.execute_reply.started": "2021-06-13T07:52:20.538230Z"
    },
    "papermill": {
     "duration": 0.074538,
     "end_time": "2021-06-13T07:53:11.827769",
     "exception": false,
     "start_time": "2021-06-13T07:53:11.753231",
     "status": "completed"
    },
    "tags": []
   },
   "outputs": [
    {
     "data": {
      "text/plain": [
       "['CS1116',\n",
       " 'CS1117',\n",
       " 'CS1129',\n",
       " 'CS1144',\n",
       " 'CS1150',\n",
       " 'CS1167',\n",
       " 'CS1168',\n",
       " 'CS1193',\n",
       " 'CS1197',\n",
       " 'CS1212',\n",
       " 'CS1213',\n",
       " 'CS1224',\n",
       " 'CS1239',\n",
       " 'CS1242',\n",
       " 'CS1282',\n",
       " 'CS1288',\n",
       " 'CS1297',\n",
       " 'CS1309',\n",
       " 'CS1310',\n",
       " 'CS1314',\n",
       " 'CS1325',\n",
       " 'CS1328',\n",
       " 'CS1329',\n",
       " 'CS1333',\n",
       " 'CS1335',\n",
       " 'CS1341',\n",
       " 'CS1346',\n",
       " 'CS1375',\n",
       " 'CS1379',\n",
       " 'CS1386',\n",
       " 'CS1408',\n",
       " 'CS1418',\n",
       " 'CS1436',\n",
       " 'CS1481',\n",
       " 'CS1482',\n",
       " 'CS1487',\n",
       " 'CS1500',\n",
       " 'CS1514',\n",
       " 'CS1521',\n",
       " 'CS1522',\n",
       " 'CS1523',\n",
       " 'CS1524',\n",
       " 'CS1530',\n",
       " 'CS1532',\n",
       " 'CS1536',\n",
       " 'CS1554',\n",
       " 'CS1562',\n",
       " 'CS1563',\n",
       " 'CS1565',\n",
       " 'CS1590',\n",
       " 'CS1591',\n",
       " 'CS1595',\n",
       " 'CS1618',\n",
       " 'CS1638',\n",
       " 'CS1651',\n",
       " 'CS1657',\n",
       " 'CS1665',\n",
       " 'CS1672',\n",
       " 'CS1682',\n",
       " 'CS1688',\n",
       " 'CS1700',\n",
       " 'CS1701',\n",
       " 'CS1716',\n",
       " 'CS1756',\n",
       " 'CS1762',\n",
       " 'CS1765',\n",
       " 'CS1777',\n",
       " 'CS1784',\n",
       " 'CS1801',\n",
       " 'CS1808',\n",
       " 'CS1834',\n",
       " 'CS1839',\n",
       " 'CS1845',\n",
       " 'CS1852',\n",
       " 'CS1881',\n",
       " 'CS1882',\n",
       " 'CS1891',\n",
       " 'CS1896',\n",
       " 'CS1899',\n",
       " 'CS1915',\n",
       " 'CS1917',\n",
       " 'CS1918',\n",
       " 'CS1956',\n",
       " 'CS1962',\n",
       " 'CS1965',\n",
       " 'CS1973',\n",
       " 'CS1979',\n",
       " 'CS1983',\n",
       " 'CS1984',\n",
       " 'CS1994',\n",
       " 'CS1997',\n",
       " 'CS2011',\n",
       " 'CS2012',\n",
       " 'CS2021',\n",
       " 'CS2024',\n",
       " 'CS2028',\n",
       " 'CS2029',\n",
       " 'CS2033',\n",
       " 'CS2060',\n",
       " 'CS2062',\n",
       " 'CS2063',\n",
       " 'CS2064',\n",
       " 'CS2066',\n",
       " 'CS2082',\n",
       " 'CS2088',\n",
       " 'CS2090',\n",
       " 'CS2099',\n",
       " 'CS2100',\n",
       " 'CS2105',\n",
       " 'CS2110',\n",
       " 'CS2118',\n",
       " 'CS2120',\n",
       " 'CS2124',\n",
       " 'CS2131',\n",
       " 'CS2132',\n",
       " 'CS2133',\n",
       " 'CS2136',\n",
       " 'CS2144',\n",
       " 'CS2150',\n",
       " 'CS2160',\n",
       " 'CS2163',\n",
       " 'CS2164',\n",
       " 'CS2165',\n",
       " 'CS2169',\n",
       " 'CS2173',\n",
       " 'CS2183',\n",
       " 'CS2185',\n",
       " 'CS2192',\n",
       " 'CS2196',\n",
       " 'CS2209',\n",
       " 'CS2211',\n",
       " 'CS2212',\n",
       " 'CS2222',\n",
       " 'CS2224',\n",
       " 'CS2234',\n",
       " 'CS2240',\n",
       " 'CS2261',\n",
       " 'CS2270',\n",
       " 'CS2276',\n",
       " 'CS2278',\n",
       " 'CS2286',\n",
       " 'CS2301',\n",
       " 'CS2307',\n",
       " 'CS2315',\n",
       " 'CS2326',\n",
       " 'CS2332',\n",
       " 'CS2335',\n",
       " 'CS2339',\n",
       " 'CS2353',\n",
       " 'CS2358',\n",
       " 'CS2376',\n",
       " 'CS2380',\n",
       " 'CS2390',\n",
       " 'CS2402',\n",
       " 'CS2405',\n",
       " 'CS2406',\n",
       " 'CS2409',\n",
       " 'CS2410',\n",
       " 'CS2431',\n",
       " 'CS2435',\n",
       " 'CS2440',\n",
       " 'CS2446',\n",
       " 'CS2471',\n",
       " 'CS2474',\n",
       " 'CS2478',\n",
       " 'CS2479',\n",
       " 'CS2497',\n",
       " 'CS2500',\n",
       " 'CS2503',\n",
       " 'CS2505',\n",
       " 'CS2509',\n",
       " 'CS2528',\n",
       " 'CS2553',\n",
       " 'CS2554',\n",
       " 'CS2559',\n",
       " 'CS2560',\n",
       " 'CS2570',\n",
       " 'CS2573',\n",
       " 'CS2576',\n",
       " 'CS2581',\n",
       " 'CS2596',\n",
       " 'CS2617',\n",
       " 'CS2626',\n",
       " 'CS2629',\n",
       " 'CS2632',\n",
       " 'CS2642',\n",
       " 'CS2650',\n",
       " 'CS2674',\n",
       " 'CS2677',\n",
       " 'CS2678',\n",
       " 'CS2691',\n",
       " 'CS2717',\n",
       " 'CS2718',\n",
       " 'CS2724',\n",
       " 'CS2730',\n",
       " 'CS2740',\n",
       " 'CS2752',\n",
       " 'CS2762',\n",
       " 'CS2764',\n",
       " 'CS2772',\n",
       " 'CS2774',\n",
       " 'CS2779',\n",
       " 'CS2803',\n",
       " 'CS2806',\n",
       " 'CS2811',\n",
       " 'CS2826',\n",
       " 'CS2841',\n",
       " 'CS2844',\n",
       " 'CS2852',\n",
       " 'CS2857',\n",
       " 'CS2874',\n",
       " 'CS2882',\n",
       " 'CS2892',\n",
       " 'CS2923',\n",
       " 'CS2933',\n",
       " 'CS2936',\n",
       " 'CS2941',\n",
       " 'CS2948',\n",
       " 'CS2958',\n",
       " 'CS2965',\n",
       " 'CS2966',\n",
       " 'CS2971',\n",
       " 'CS2976',\n",
       " 'CS2985',\n",
       " 'CS2992',\n",
       " 'CS3001',\n",
       " 'CS3007',\n",
       " 'CS3016',\n",
       " 'CS3021',\n",
       " 'CS3025',\n",
       " 'CS3033',\n",
       " 'CS3048',\n",
       " 'CS3056',\n",
       " 'CS3057',\n",
       " 'CS3063',\n",
       " 'CS3065',\n",
       " 'CS3084',\n",
       " 'CS3088',\n",
       " 'CS3089',\n",
       " 'CS3091',\n",
       " 'CS3094',\n",
       " 'CS3102',\n",
       " 'CS3104',\n",
       " 'CS3108',\n",
       " 'CS3113',\n",
       " 'CS3114',\n",
       " 'CS3125',\n",
       " 'CS3133',\n",
       " 'CS3135',\n",
       " 'CS3138',\n",
       " 'CS3140',\n",
       " 'CS3147',\n",
       " 'CS3160',\n",
       " 'CS3170',\n",
       " 'CS3171',\n",
       " 'CS3175',\n",
       " 'CS3185',\n",
       " 'CS3192',\n",
       " 'CS3197',\n",
       " 'CS3200',\n",
       " 'CS3208',\n",
       " 'CS3211',\n",
       " 'CS3225',\n",
       " 'CS3226',\n",
       " 'CS3235',\n",
       " 'CS3239',\n",
       " 'CS3244',\n",
       " 'CS3248',\n",
       " 'CS3261',\n",
       " 'CS3266',\n",
       " 'CS3269',\n",
       " 'CS3293',\n",
       " 'CS3297',\n",
       " 'CS3303',\n",
       " 'CS3307',\n",
       " 'CS3312',\n",
       " 'CS3329',\n",
       " 'CS3331',\n",
       " 'CS3344',\n",
       " 'CS3361',\n",
       " 'CS3378',\n",
       " 'CS3379',\n",
       " 'CS3380',\n",
       " 'CS3381',\n",
       " 'CS3385',\n",
       " 'CS3389',\n",
       " 'CS3395',\n",
       " 'CS3399',\n",
       " 'CS3405',\n",
       " 'CS3422',\n",
       " 'CS3438',\n",
       " 'CS3443',\n",
       " 'CS3445',\n",
       " 'CS3467',\n",
       " 'CS3484',\n",
       " 'CS3486',\n",
       " 'CS3487',\n",
       " 'CS3497',\n",
       " 'CS3506',\n",
       " 'CS3513',\n",
       " 'CS3522',\n",
       " 'CS3532',\n",
       " 'CS3537',\n",
       " 'CS3555',\n",
       " 'CS3556',\n",
       " 'CS3567',\n",
       " 'CS3573',\n",
       " 'CS3578',\n",
       " 'CS3601',\n",
       " 'CS3608',\n",
       " 'CS3642',\n",
       " 'CS3665',\n",
       " 'CS3674',\n",
       " 'CS3680',\n",
       " 'CS3684',\n",
       " 'CS3691',\n",
       " 'CS3693',\n",
       " 'CS3704',\n",
       " 'CS3717',\n",
       " 'CS3748',\n",
       " 'CS3766',\n",
       " 'CS3774',\n",
       " 'CS3782',\n",
       " 'CS3792',\n",
       " 'CS3803',\n",
       " 'CS3806',\n",
       " 'CS3810',\n",
       " 'CS3815',\n",
       " 'CS3825',\n",
       " 'CS3835',\n",
       " 'CS3837',\n",
       " 'CS3856',\n",
       " 'CS3858',\n",
       " 'CS3867',\n",
       " 'CS3892',\n",
       " 'CS3905',\n",
       " 'CS3913',\n",
       " 'CS3915',\n",
       " 'CS3922',\n",
       " 'CS3931',\n",
       " 'CS3937',\n",
       " 'CS3938',\n",
       " 'CS3965',\n",
       " 'CS3967',\n",
       " 'CS3976',\n",
       " 'CS4009',\n",
       " 'CS4020',\n",
       " 'CS4021',\n",
       " 'CS4036',\n",
       " 'CS4040',\n",
       " 'CS4042',\n",
       " 'CS4046',\n",
       " 'CS4052',\n",
       " 'CS4055',\n",
       " 'CS4058',\n",
       " 'CS4060',\n",
       " 'CS4069',\n",
       " 'CS4079',\n",
       " 'CS4092',\n",
       " 'CS4093',\n",
       " 'CS4112',\n",
       " 'CS4117',\n",
       " 'CS4119',\n",
       " 'CS4125',\n",
       " 'CS4143',\n",
       " 'CS4151',\n",
       " 'CS4159',\n",
       " 'CS4164',\n",
       " 'CS4166',\n",
       " 'CS4168',\n",
       " 'CS4173',\n",
       " 'CS4174',\n",
       " 'CS4185',\n",
       " 'CS4190',\n",
       " 'CS4210',\n",
       " 'CS4253',\n",
       " 'CS4261',\n",
       " 'CS4281',\n",
       " 'CS4291',\n",
       " 'CS4300',\n",
       " 'CS4314',\n",
       " 'CS4321',\n",
       " 'CS4335',\n",
       " 'CS4342',\n",
       " 'CS4346',\n",
       " 'CS4360',\n",
       " 'CS4364',\n",
       " 'CS4366',\n",
       " 'CS4377',\n",
       " 'CS4419',\n",
       " 'CS4423',\n",
       " 'CS4425',\n",
       " 'CS4428',\n",
       " 'CS4434',\n",
       " 'CS4436',\n",
       " 'CS4439',\n",
       " 'CS4454',\n",
       " 'CS4455',\n",
       " 'CS4464',\n",
       " 'CS4469',\n",
       " 'CS4492',\n",
       " 'CS4494',\n",
       " 'CS4502',\n",
       " 'CS4505',\n",
       " 'CS4523',\n",
       " 'CS4529',\n",
       " 'CS4545',\n",
       " 'CS4546',\n",
       " 'CS4557',\n",
       " 'CS4562',\n",
       " 'CS4566',\n",
       " 'CS4567',\n",
       " 'CS4574',\n",
       " 'CS4581',\n",
       " 'CS4584',\n",
       " 'CS4620',\n",
       " 'CS4630',\n",
       " 'CS4634',\n",
       " 'CS4644',\n",
       " 'CS4663',\n",
       " 'CS4680',\n",
       " 'CS4683',\n",
       " 'CS4684',\n",
       " 'CS4689',\n",
       " 'CS4694',\n",
       " 'CS4698',\n",
       " 'CS4705',\n",
       " 'CS4706',\n",
       " 'CS4709',\n",
       " 'CS4712',\n",
       " 'CS4714',\n",
       " 'CS4728',\n",
       " 'CS4732',\n",
       " 'CS4742',\n",
       " 'CS4767',\n",
       " 'CS4770',\n",
       " 'CS4774',\n",
       " 'CS4834',\n",
       " 'CS4873',\n",
       " 'CS4894',\n",
       " 'CS4911',\n",
       " 'CS4919',\n",
       " 'CS4923',\n",
       " 'CS4933',\n",
       " 'CS4975',\n",
       " 'CS4978',\n",
       " 'CS4982',\n",
       " 'CS4997',\n",
       " 'CS4999',\n",
       " 'CS5002',\n",
       " 'CS5020',\n",
       " 'CS5022',\n",
       " 'CS5024',\n",
       " 'CS5030',\n",
       " 'CS5035',\n",
       " 'CS5045',\n",
       " 'CS5072',\n",
       " 'CS5080',\n",
       " 'CS5089',\n",
       " 'CS5091',\n",
       " 'CS5101',\n",
       " 'CS5104',\n",
       " 'CS5123',\n",
       " 'CS5144',\n",
       " 'CS5149',\n",
       " 'CS5150',\n",
       " 'CS5152',\n",
       " 'CS5167',\n",
       " 'CS5173',\n",
       " 'CS5177',\n",
       " 'CS5179',\n",
       " 'CS5186',\n",
       " 'CS5194',\n",
       " 'CS5206',\n",
       " 'CS5214',\n",
       " 'CS5216',\n",
       " 'CS5229',\n",
       " 'CS5233',\n",
       " 'CS5236',\n",
       " 'CS5243',\n",
       " 'CS5252',\n",
       " 'CS5262',\n",
       " 'CS5279',\n",
       " 'CS5286',\n",
       " 'CS5294',\n",
       " 'CS5300',\n",
       " 'CS5312',\n",
       " 'CS5313',\n",
       " 'CS5314',\n",
       " 'CS5324',\n",
       " 'CS5327',\n",
       " 'CS5328',\n",
       " 'CS5333',\n",
       " 'CS5336',\n",
       " 'CS5337',\n",
       " 'CS5355',\n",
       " 'CS5357',\n",
       " 'CS5358',\n",
       " 'CS5359',\n",
       " 'CS5362',\n",
       " 'CS5368',\n",
       " 'CS5377',\n",
       " 'CS5378',\n",
       " 'CS5379',\n",
       " 'CS5381',\n",
       " 'CS5385',\n",
       " 'CS5388',\n",
       " 'CS5410',\n",
       " 'CS5422',\n",
       " 'CS5447',\n",
       " 'CS5451',\n",
       " 'CS5457',\n",
       " 'CS5471',\n",
       " 'CS5473',\n",
       " 'CS5484',\n",
       " 'CS5494',\n",
       " 'CS5506',\n",
       " 'CS5509',\n",
       " 'CS5512',\n",
       " 'CS5516',\n",
       " 'CS5521',\n",
       " 'CS5530',\n",
       " 'CS5548',\n",
       " 'CS5558',\n",
       " 'CS5563',\n",
       " 'CS5575',\n",
       " 'CS5579',\n",
       " 'CS5582',\n",
       " 'CS5585',\n",
       " 'CS5596',\n",
       " 'CS5612',\n",
       " 'CS5622',\n",
       " 'CS5626',\n",
       " 'CS5634',\n",
       " 'CS5651',\n",
       " 'CS5657',\n",
       " 'CS5666',\n",
       " 'CS5683',\n",
       " 'CS5686',\n",
       " 'CS5688',\n",
       " 'CS5704',\n",
       " 'CS5705',\n",
       " 'CS5710',\n",
       " 'CS5716',\n",
       " 'CS5721',\n",
       " 'CS5725',\n",
       " 'CS5757',\n",
       " 'CS5771',\n",
       " 'CS5795',\n",
       " 'CS5809',\n",
       " 'CS5814',\n",
       " 'CS5828',\n",
       " 'CS5840',\n",
       " 'CS5842',\n",
       " 'CS5861',\n",
       " 'CS5869',\n",
       " 'CS5891',\n",
       " 'CS5893',\n",
       " 'CS5896',\n",
       " 'CS5903',\n",
       " 'CS5904',\n",
       " 'CS5909',\n",
       " 'CS5916',\n",
       " 'CS5917',\n",
       " 'CS5924',\n",
       " 'CS5930',\n",
       " 'CS5944',\n",
       " 'CS5954',\n",
       " 'CS5957',\n",
       " 'CS5962',\n",
       " 'CS5974',\n",
       " 'CS5992',\n",
       " 'CS5999',\n",
       " 'CS6000',\n",
       " 'CS6008',\n",
       " 'CS6010',\n",
       " 'CS6026',\n",
       " 'CS6032',\n",
       " 'CS6042',\n",
       " 'CS6048',\n",
       " 'CS6061',\n",
       " 'CS6062',\n",
       " 'CS6109',\n",
       " 'CS7112',\n",
       " 'CS7113',\n",
       " 'CS7116',\n",
       " 'CS7117',\n",
       " 'CS7119',\n",
       " 'CS7122',\n",
       " 'CS7123',\n",
       " 'CS7124',\n",
       " 'CS7125',\n",
       " 'CS7126',\n",
       " 'CS7128',\n",
       " 'CS7129',\n",
       " 'CS7132',\n",
       " 'CS7133',\n",
       " 'CS7134',\n",
       " 'CS7135',\n",
       " 'CS7136',\n",
       " 'CS7137',\n",
       " 'CS7139',\n",
       " 'CS7142',\n",
       " 'CS7143',\n",
       " 'CS7144',\n",
       " 'CS7145',\n",
       " 'CS7147',\n",
       " 'CS7150',\n",
       " 'CS7151',\n",
       " 'CS7153',\n",
       " 'CS7155',\n",
       " 'CS7156',\n",
       " 'CS7158',\n",
       " 'CS7160',\n",
       " 'CS7163',\n",
       " 'CS7165',\n",
       " 'CS7166',\n",
       " 'CS7167',\n",
       " 'CS7168',\n",
       " 'CS7169',\n",
       " 'CS7172',\n",
       " 'CS7173',\n",
       " 'CS7175',\n",
       " 'CS7176',\n",
       " 'CS7177',\n",
       " 'CS7179',\n",
       " 'CS7180',\n",
       " 'CS7181',\n",
       " 'CS7182',\n",
       " 'CS7186',\n",
       " 'CS7190',\n",
       " 'CS7191',\n",
       " 'CS7192',\n",
       " 'CS7193',\n",
       " 'CS7194',\n",
       " 'CS7197',\n",
       " 'CS7198',\n",
       " 'CS7199',\n",
       " 'CS7200',\n",
       " 'CS7201',\n",
       " 'CS7202',\n",
       " 'CS7203',\n",
       " 'CS7204',\n",
       " 'CS7206',\n",
       " 'CS7207',\n",
       " 'CS7208',\n",
       " 'CS7210',\n",
       " 'CS7211',\n",
       " 'CS7212',\n",
       " 'CS7213',\n",
       " 'CS7217',\n",
       " 'CS7221',\n",
       " 'CS7222',\n",
       " 'CS7223',\n",
       " 'CS7224',\n",
       " 'CS7225',\n",
       " 'CS7226',\n",
       " 'CS7228',\n",
       " 'CS7229',\n",
       " 'CS7231',\n",
       " 'CS7232',\n",
       " 'CS7233',\n",
       " 'CS7235',\n",
       " 'CS7237',\n",
       " 'CS7239',\n",
       " 'CS7242',\n",
       " 'CS7243',\n",
       " 'CS7244',\n",
       " 'CS7245',\n",
       " 'CS7246',\n",
       " 'CS7249',\n",
       " 'CS7250',\n",
       " 'CS7252',\n",
       " 'CS7253',\n",
       " 'CS7254',\n",
       " 'CS7256',\n",
       " 'CS7257',\n",
       " 'CS7258',\n",
       " 'CS7259',\n",
       " 'CS7261',\n",
       " 'CS7262',\n",
       " 'CS7264',\n",
       " 'CS7265',\n",
       " 'CS7266',\n",
       " 'CS7267',\n",
       " 'CS7268',\n",
       " 'CS7269',\n",
       " 'CS7272',\n",
       " 'CS7273',\n",
       " 'CS7275',\n",
       " 'CS7277',\n",
       " 'CS7278',\n",
       " 'CS7279',\n",
       " 'CS7280',\n",
       " 'CS7282',\n",
       " 'CS7283',\n",
       " 'CS7285',\n",
       " 'CS7286',\n",
       " 'CS7287',\n",
       " 'CS7288',\n",
       " 'CS7289',\n",
       " 'CS7290',\n",
       " 'CS7293',\n",
       " 'CS7297',\n",
       " 'CS7298',\n",
       " 'CS7299',\n",
       " 'CS7300',\n",
       " 'CS7301',\n",
       " 'CS7304',\n",
       " 'CS7305',\n",
       " 'CS7307',\n",
       " 'CS7309',\n",
       " 'CS7310',\n",
       " 'CS7311',\n",
       " 'CS7314',\n",
       " 'CS7315',\n",
       " 'CS7317',\n",
       " 'CS7319',\n",
       " 'CS7320',\n",
       " 'CS7322',\n",
       " 'CS7323',\n",
       " 'CS7325',\n",
       " 'CS7326',\n",
       " 'CS7328',\n",
       " 'CS7329',\n",
       " 'CS7333',\n",
       " 'CS7334',\n",
       " 'CS7335',\n",
       " 'CS7336',\n",
       " 'CS7339',\n",
       " 'CS7340',\n",
       " 'CS7341',\n",
       " 'CS7342',\n",
       " 'CS7343',\n",
       " 'CS7345',\n",
       " 'CS7346',\n",
       " 'CS7348',\n",
       " 'CS7350',\n",
       " 'CS7351',\n",
       " 'CS7353',\n",
       " 'CS7354',\n",
       " 'CS7355',\n",
       " 'CS7356',\n",
       " 'CS7357',\n",
       " 'CS7359',\n",
       " 'CS7360',\n",
       " 'CS7367',\n",
       " 'CS7370',\n",
       " 'CS7371',\n",
       " 'CS7372',\n",
       " 'CS7373',\n",
       " 'CS7374',\n",
       " 'CS7375',\n",
       " 'CS7377',\n",
       " 'CS7379',\n",
       " 'CS7381',\n",
       " 'CS7383',\n",
       " 'CS7386',\n",
       " 'CS7387',\n",
       " 'CS7388',\n",
       " 'CS7390',\n",
       " 'CS7392',\n",
       " 'CS7393',\n",
       " 'CS7395',\n",
       " 'CS7400',\n",
       " 'CS7403',\n",
       " 'CS7408',\n",
       " 'CS7409',\n",
       " 'CS7410',\n",
       " 'CS7411',\n",
       " 'CS7413',\n",
       " 'CS7414',\n",
       " 'CS7415',\n",
       " 'CS7416',\n",
       " 'CS7417',\n",
       " 'CS7418',\n",
       " 'CS7421',\n",
       " 'CS7423',\n",
       " 'CS7425',\n",
       " 'CS7429',\n",
       " 'CS7430',\n",
       " 'CS7433',\n",
       " 'CS7436',\n",
       " 'CS7437',\n",
       " 'CS7438',\n",
       " 'CS7439',\n",
       " 'CS7440',\n",
       " 'CS7441',\n",
       " 'CS7444',\n",
       " 'CS7448',\n",
       " 'CS7450',\n",
       " 'CS7452',\n",
       " 'CS7453',\n",
       " 'CS7455',\n",
       " 'CS7456',\n",
       " 'CS7457',\n",
       " 'CS7459',\n",
       " 'CS7460',\n",
       " 'CS7462',\n",
       " 'CS7463',\n",
       " 'CS7464',\n",
       " 'CS7467',\n",
       " 'CS7470',\n",
       " 'CS7471',\n",
       " 'CS7473',\n",
       " 'CS7474',\n",
       " 'CS7475',\n",
       " 'CS7476',\n",
       " 'CS7477',\n",
       " 'CS7478',\n",
       " 'CS7479',\n",
       " 'CS7480',\n",
       " 'CS7481',\n",
       " 'CS7482',\n",
       " 'CS7483',\n",
       " 'CS7484',\n",
       " 'CS7486',\n",
       " 'CS7487',\n",
       " 'CS7489',\n",
       " 'CS7491',\n",
       " 'CS7493',\n",
       " 'CS7494',\n",
       " 'CS7496',\n",
       " 'CS7498',\n",
       " 'CS7500',\n",
       " 'CS7504',\n",
       " 'CS7506',\n",
       " 'CS7508',\n",
       " 'CS7509',\n",
       " 'CS7510',\n",
       " 'CS7511',\n",
       " 'CS7512',\n",
       " 'CS7513',\n",
       " 'CS7514',\n",
       " 'CS7516',\n",
       " 'CS7517',\n",
       " 'CS7518',\n",
       " 'CS7521',\n",
       " 'CS7522',\n",
       " 'CS7523',\n",
       " 'CS7524',\n",
       " 'CS7525',\n",
       " 'CS7526',\n",
       " 'CS7529',\n",
       " 'CS7530',\n",
       " 'CS7531',\n",
       " 'CS7532',\n",
       " 'CS7534',\n",
       " 'CS7536',\n",
       " 'CS7538',\n",
       " 'CS7539',\n",
       " 'CS7540',\n",
       " 'CS7546',\n",
       " 'CS7547',\n",
       " 'CS7549',\n",
       " 'CS7550',\n",
       " 'CS7551',\n",
       " 'CS7553',\n",
       " 'CS7554',\n",
       " 'CS7555',\n",
       " 'CS7557',\n",
       " 'CS7558',\n",
       " 'CS7560',\n",
       " 'CS7561',\n",
       " 'CS7562',\n",
       " 'CS7563',\n",
       " 'CS7565',\n",
       " 'CS7566',\n",
       " 'CS7569',\n",
       " 'CS7570',\n",
       " 'CS7571',\n",
       " 'CS7572',\n",
       " 'CS7573',\n",
       " 'CS7576',\n",
       " 'CS7578',\n",
       " 'CS7585',\n",
       " 'CS7586',\n",
       " 'CS7590',\n",
       " 'CS7591',\n",
       " 'CS7592',\n",
       " 'CS7593',\n",
       " 'CS7594',\n",
       " 'CS7595',\n",
       " 'CS7596',\n",
       " 'CS7597',\n",
       " 'CS7598',\n",
       " 'CS7599',\n",
       " 'CS7600',\n",
       " 'CS7602',\n",
       " 'CS7603',\n",
       " 'CS7606',\n",
       " 'CS7607',\n",
       " 'CS7608',\n",
       " 'CS7609',\n",
       " 'CS7610',\n",
       " 'CS7611',\n",
       " 'CS7613',\n",
       " 'CS7618',\n",
       " 'CS7620',\n",
       " 'CS7626',\n",
       " 'CS7627',\n",
       " 'CS7628',\n",
       " 'CS7630',\n",
       " 'CS7631',\n",
       " 'CS7636',\n",
       " 'CS7638',\n",
       " 'CS7640',\n",
       " 'CS7642',\n",
       " 'CS7644',\n",
       " 'CS7645',\n",
       " 'CS7646',\n",
       " 'CS7647',\n",
       " 'CS7648',\n",
       " 'CS7649',\n",
       " 'CS7650',\n",
       " 'CS7651',\n",
       " 'CS7652',\n",
       " 'CS7653',\n",
       " 'CS7654',\n",
       " 'CS7655',\n",
       " 'CS7656',\n",
       " 'CS7657',\n",
       " 'CS7659',\n",
       " 'CS7665',\n",
       " 'CS7666',\n",
       " 'CS7667',\n",
       " 'CS7668',\n",
       " 'CS7670',\n",
       " 'CS7671',\n",
       " 'CS7672',\n",
       " 'CS7674',\n",
       " 'CS7675',\n",
       " 'CS7677',\n",
       " 'CS7678',\n",
       " 'CS7680',\n",
       " 'CS7681',\n",
       " 'CS7682',\n",
       " 'CS7684',\n",
       " 'CS7685',\n",
       " 'CS7686',\n",
       " 'CS7687',\n",
       " 'CS7688',\n",
       " 'CS7689',\n",
       " 'CS7690',\n",
       " 'CS7691',\n",
       " 'CS7693',\n",
       " 'CS7694',\n",
       " 'CS7696',\n",
       " 'CS7697',\n",
       " 'CS7700',\n",
       " 'CS7701',\n",
       " 'CS7702',\n",
       " 'CS7703',\n",
       " 'CS7704',\n",
       " 'CS7705',\n",
       " 'CS7706',\n",
       " 'CS7707',\n",
       " 'CS7708',\n",
       " 'CS7709',\n",
       " 'CS7710',\n",
       " 'CS7711',\n",
       " 'CS7712',\n",
       " 'CS7713',\n",
       " 'CS7715',\n",
       " 'CS7716',\n",
       " 'CS7717',\n",
       " 'CS7718',\n",
       " 'CS7719',\n",
       " 'CS7722',\n",
       " 'CS7723',\n",
       " 'CS7724',\n",
       " 'CS7725',\n",
       " 'CS7728',\n",
       " 'CS7730',\n",
       " 'CS7732',\n",
       " 'CS7733',\n",
       " 'CS7734',\n",
       " 'CS7736',\n",
       " 'CS7737',\n",
       " 'CS7738',\n",
       " 'CS7739',\n",
       " 'CS7741',\n",
       " 'CS7742',\n",
       " 'CS7743',\n",
       " 'CS7746',\n",
       " 'CS7747',\n",
       " 'CS7753',\n",
       " 'CS7754',\n",
       " 'CS7755',\n",
       " 'CS7756',\n",
       " 'CS7758',\n",
       " 'CS7759',\n",
       " 'CS7760',\n",
       " 'CS7761',\n",
       " 'CS7762',\n",
       " 'CS7764',\n",
       " 'CS7765',\n",
       " 'CS7766',\n",
       " 'CS7767',\n",
       " 'CS7768',\n",
       " ...]"
      ]
     },
     "execution_count": 29,
     "metadata": {},
     "output_type": "execute_result"
    }
   ],
   "source": [
    "MostValuableCustomers"
   ]
  }
 ],
 "metadata": {
  "kernelspec": {
   "display_name": "Python 3",
   "language": "python",
   "name": "python3"
  },
  "language_info": {
   "codemirror_mode": {
    "name": "ipython",
    "version": 3
   },
   "file_extension": ".py",
   "mimetype": "text/x-python",
   "name": "python",
   "nbconvert_exporter": "python",
   "pygments_lexer": "ipython3",
   "version": "3.7.6"
  },
  "papermill": {
   "duration": 23.566176,
   "end_time": "2021-06-13T07:53:11.980757",
   "environment_variables": {},
   "exception": null,
   "input_path": "__notebook__.ipynb",
   "output_path": "__notebook__.ipynb",
   "parameters": {},
   "start_time": "2021-06-13T07:52:48.414581",
   "version": "2.1.0"
  }
 },
 "nbformat": 4,
 "nbformat_minor": 4
}
